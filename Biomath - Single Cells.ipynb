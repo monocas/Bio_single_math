{
 "cells": [
  {
   "attachments": {},
   "cell_type": "markdown",
   "metadata": {},
   "source": [
    "<h2 align=\"center\"> SINGLE CELLS: </h2>\n",
    "<h3 align=\"center\"> UMA ANÁLISE DOS TIPOS DE CÉLULAS TRANSCRIPTÔMICAS COMPARTILHADAS E DISTINTAS EM ÁREAS NEOCORTICAIS </h3>\n",
    "\n",
    "<hr>\n",
    "\n",
    "<p> O neocórtex é uma região do cérebro com uma infinidade de tipos de células que são segregadas em camadas e áreas funcionalmente distintas atuando na percepção sensorial, cognição, geração de comandos motores, raciocínio espacial e linguagem. Na evolução dos mamíferos, o córtex sofreu maior expansão no número de células, camadas e áreas funcionais em comparação com o resto do cérebro, coincidindo com a aquisição de funções cognitivas cada vez mais sofisticadas, o objetivo deste trabalho é   </p>\n",
    "\n",
    "\n",
    "<p> O projeto foi elaborado pelos estudantes durante o terceiro semestre de graduação da Ilum - Escola de Ciência, para a disciplina de Aprendizado de Máquina. O grupo é composto pelos estudantes: </p>\n",
    "\n",
    "<p> Caio Eduardo Palatin  </p>\n",
    "<p> João Pedro Aroucha de Brito  </p>\n",
    "<p> Monyque Karoline de Paula Silva </p>\n",
    "<p align=\"justify\">"
   ]
  },
  {
   "cell_type": "code",
   "execution_count": 2,
   "metadata": {},
   "outputs": [],
   "source": [
    "import pandas as pd\n",
    "import scanpy as sc\n",
    "from sklearn.ensemble import RandomForestClassifier\n",
    "from sklearn import metrics\n",
    "import random"
   ]
  },
  {
   "cell_type": "code",
   "execution_count": null,
   "metadata": {},
   "outputs": [],
   "source": [
    "annotations = sc.read_h5ad('../complete_class/integrated.h5ad') #dont worry about this, get UMAP coords and labels\n",
    "adata = sc.read_h5ad('../complete_class/combined.h5ad') #raw data"
   ]
  }
 ],
 "metadata": {
  "kernelspec": {
   "display_name": "ilumpy",
   "language": "python",
   "name": "python3"
  },
  "language_info": {
   "codemirror_mode": {
    "name": "ipython",
    "version": 3
   },
   "file_extension": ".py",
   "mimetype": "text/x-python",
   "name": "python",
   "nbconvert_exporter": "python",
   "pygments_lexer": "ipython3",
   "version": "3.11.4"
  },
  "orig_nbformat": 4
 },
 "nbformat": 4,
 "nbformat_minor": 2
}
